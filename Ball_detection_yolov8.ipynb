{
 "cells": [
  {
   "cell_type": "code",
   "execution_count": 1,
   "id": "1817ba52",
   "metadata": {},
   "outputs": [],
   "source": [
    "# import necessary libraries\n",
    "from ultralytics import YOLO\n",
    "import json"
   ]
  },
  {
   "cell_type": "code",
   "execution_count": 3,
   "id": "ff666025",
   "metadata": {},
   "outputs": [],
   "source": [
    "#Build the model\n",
    "model = YOLO(\"yolov8n.pt\")"
   ]
  },
  {
   "cell_type": "code",
   "execution_count": null,
   "id": "8c2651be",
   "metadata": {},
   "outputs": [],
   "source": [
    "#train the model\n",
    "results = model.train(data = \"Ai-pickleball-referee-3/data.yaml\", epochs=15, imgsz = 1280, batch=4)"
   ]
  }
 ],
 "metadata": {
  "kernelspec": {
   "display_name": ".venv",
   "language": "python",
   "name": "python3"
  },
  "language_info": {
   "codemirror_mode": {
    "name": "ipython",
    "version": 3
   },
   "file_extension": ".py",
   "mimetype": "text/x-python",
   "name": "python",
   "nbconvert_exporter": "python",
   "pygments_lexer": "ipython3",
   "version": "3.13.3"
  }
 },
 "nbformat": 4,
 "nbformat_minor": 5
}
