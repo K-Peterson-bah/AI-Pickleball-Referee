{
 "cells": [
  {
   "cell_type": "code",
   "execution_count": 2,
   "id": "41d72e44",
   "metadata": {},
   "outputs": [],
   "source": [
    "import os\n",
    "import random\n",
    "import shutil"
   ]
  },
  {
   "cell_type": "code",
   "execution_count": 10,
   "id": "700e97ff",
   "metadata": {},
   "outputs": [],
   "source": [
    "folder1 = \"Ai-pickleball-referee.v5-all-train.yolov8/train/images\"\n",
    "folder2 = \"Ai-pickleball-referee.v5-all-train.yolov8/train/labels\"\n",
    "\n",
    "new_folder1 = \"Ai-pickleball-referee.v5-all-train.yolov8/train/shuffled_images\"\n",
    "new_folder2 = \"Ai-pickleball-referee.v5-all-train.yolov8/train/shuffled_labels\"\n",
    "\n",
    "\n",
    "# Create new folders if they don't exist\n",
    "os.makedirs(new_folder1, exist_ok=True)\n",
    "os.makedirs(new_folder2, exist_ok=True)\n"
   ]
  },
  {
   "cell_type": "code",
   "execution_count": 11,
   "id": "4854dff6",
   "metadata": {},
   "outputs": [
    {
     "name": "stdout",
     "output_type": "stream",
     "text": [
      "1789\n"
     ]
    }
   ],
   "source": [
    "files1 = sorted(os.listdir(folder1))\n",
    "files2 = sorted(os.listdir(folder2))\n",
    "\n",
    "if len(files1) != len(files2):\n",
    "    raise ValueError(\"folders must have same number of files\")\n",
    "print(len(files1))"
   ]
  },
  {
   "cell_type": "code",
   "execution_count": 12,
   "id": "6ac9e2a2",
   "metadata": {},
   "outputs": [],
   "source": [
    "paired_files = list(zip(files1, files2))\n",
    "random.shuffle(paired_files)"
   ]
  },
  {
   "cell_type": "code",
   "execution_count": 13,
   "id": "b8929e17",
   "metadata": {},
   "outputs": [],
   "source": [
    "\n",
    "# Copy shuffled files\n",
    "for i, (file1, file2) in enumerate(paired_files):\n",
    "    shutil.copy(os.path.join(folder1, file1), os.path.join(new_folder1, f\"shuffled_{i}_{file1}\"))\n",
    "    shutil.copy(os.path.join(folder2, file2), os.path.join(new_folder2, f\"shuffled_{i}_{file2}\"))\n"
   ]
  },
  {
   "cell_type": "code",
   "execution_count": null,
   "id": "8a14c2fa",
   "metadata": {},
   "outputs": [
    {
     "name": "stdout",
     "output_type": "stream",
     "text": [
      "True\n"
     ]
    }
   ],
   "source": [
    "#check to make sure that all files correspond\n",
    "def get_filenames_without_extensions(directory):\n",
    "    return {os.path.splitext(f)[0] for f in os.listdir(directory) if os.path.isfile(os.path.join(directory, f))}\n",
    "\n",
    "def all_files_correspond(dir1, dir2):\n",
    "    files1 = get_filenames_without_extensions(dir1)\n",
    "    files2 = get_filenames_without_extensions(dir2)\n",
    "\n",
    "    return files1 == files2\n",
    "\n",
    "# Example usage\n",
    "result = all_files_correspond(new_folder1, new_folder2)\n",
    "print(result)\n",
    "\n"
   ]
  },
  {
   "cell_type": "code",
   "execution_count": 3,
   "id": "7e4aef24",
   "metadata": {},
   "outputs": [],
   "source": [
    "def move_files(src, dest, num_files):\n",
    "    files = os.listdir(src)\n",
    "    files_to_move = files[:num_files]\n",
    "    for file in files_to_move:\n",
    "        shutil.move(os.path.join(src, file), os.path.join(dest, file))"
   ]
  },
  {
   "cell_type": "code",
   "execution_count": null,
   "id": "092919a8",
   "metadata": {},
   "outputs": [],
   "source": [
    "move_files(folder1, 'Ai-pickleball-referee.v5-all-train.yolov8/test/images', 356)\n",
    "move_files(folder2, \"Ai-pickleball-referee.v5-all-train.yolov8/test/labels\", 356)"
   ]
  },
  {
   "cell_type": "code",
   "execution_count": 4,
   "id": "467c5d21",
   "metadata": {},
   "outputs": [],
   "source": [
    "move_files(\"./Data/pickleball_data/train/images\", \"./Data/pickleball_data/valid/images\", 356)\n",
    "move_files(\"./Data/pickleball_data/train/labels\", \"./Data/pickleball_data/valid/images\", 356)"
   ]
  }
 ],
 "metadata": {
  "kernelspec": {
   "display_name": ".venv",
   "language": "python",
   "name": "python3"
  },
  "language_info": {
   "codemirror_mode": {
    "name": "ipython",
    "version": 3
   },
   "file_extension": ".py",
   "mimetype": "text/x-python",
   "name": "python",
   "nbconvert_exporter": "python",
   "pygments_lexer": "ipython3",
   "version": "3.13.3"
  }
 },
 "nbformat": 4,
 "nbformat_minor": 5
}
